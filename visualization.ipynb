{
 "cells": [
  {
   "cell_type": "markdown",
   "id": "17a93782-ae5b-4209-90b0-7f100571b1e8",
   "metadata": {
    "editable": true,
    "slideshow": {
     "slide_type": "slide"
    },
    "tags": []
   },
   "source": [
    "# 5 science-back techniques to improve your visualizations"
   ]
  },
  {
   "cell_type": "markdown",
   "id": "f499a9e1-9e38-49d1-bcd0-8213173e91e5",
   "metadata": {
    "editable": true,
    "slideshow": {
     "slide_type": "slide"
    },
    "tags": []
   },
   "source": [
    "# What science?"
   ]
  },
  {
   "cell_type": "markdown",
   "id": "9af37bcd-6097-4ce1-aa71-a497cc76a980",
   "metadata": {
    "editable": true,
    "slideshow": {
     "slide_type": "subslide"
    },
    "tags": []
   },
   "source": [
    "![](the-science-of-visual-data-communication.png)"
   ]
  },
  {
   "cell_type": "markdown",
   "id": "9c0adfeb-a3ef-41ee-a5c0-7b24e95a9fd0",
   "metadata": {
    "editable": true,
    "slideshow": {
     "slide_type": "subslide"
    },
    "tags": []
   },
   "source": [
    "![](the-science-of-visual-data-communication-annotated.png)"
   ]
  },
  {
   "cell_type": "markdown",
   "id": "f8ea1176-2a21-486e-b678-8e5ad3503cdd",
   "metadata": {
    "editable": true,
    "slideshow": {
     "slide_type": "notes"
    },
    "tags": []
   },
   "source": [
    "Effectively designed data visualizations allow viewers to use their powerful visual systems to understand patterns in data ... \n",
    "\n",
    "Data visualizations can play a critical role in teaching and communication, provided that designers tailer those visualizations to their audience."
   ]
  },
  {
   "cell_type": "markdown",
   "id": "bd2d8214-5549-4200-8acf-4c106d9d2804",
   "metadata": {
    "editable": true,
    "slideshow": {
     "slide_type": "slide"
    },
    "tags": []
   },
   "source": [
    "# Two things I will not cover in this talk"
   ]
  },
  {
   "cell_type": "markdown",
   "id": "a0baf20d-09ec-426f-b32b-9e563ebe6d9f",
   "metadata": {
    "editable": true,
    "slideshow": {
     "slide_type": "subslide"
    },
    "tags": []
   },
   "source": [
    "# 1: Which graph to use for which data"
   ]
  },
  {
   "cell_type": "markdown",
   "id": "fefe42f8-17da-431c-8155-4e2b924ad833",
   "metadata": {
    "editable": true,
    "slideshow": {
     "slide_type": "subslide"
    },
    "tags": []
   },
   "source": [
    "# Instead, take a look at these great sources:\n",
    "<a href=\"https://github.com/Financial-Times/chart-doctor/blob/main/visual-vocabulary/poster.png\"><font size=\"8\">Financial Times' Visual Vocabulary</font></a>\n",
    "\n",
    "<a href=\"https://www.storytellingwithdata.com/chart-guide\"><font size=\"20\">Storytelling with data's Chart Guide</font></a>"
   ]
  },
  {
   "cell_type": "markdown",
   "id": "ea315dc1-922c-4ab4-8666-1fafde5bd052",
   "metadata": {
    "editable": true,
    "slideshow": {
     "slide_type": "subslide"
    },
    "tags": []
   },
   "source": [
    "# 2: Design"
   ]
  },
  {
   "cell_type": "markdown",
   "id": "d6a154c4-347c-4e84-8668-4912e797f97c",
   "metadata": {
    "editable": true,
    "slideshow": {
     "slide_type": "notes"
    },
    "tags": []
   },
   "source": [
    "First of all, design is an important part of data visualization. We can't draw a line and say this technique is data visualization and this is strictly a design choice.\n",
    "\n",
    "I have excluded some typical design advice, because I found it difficult to find science backing it up. \n",
    "\n",
    "That's not to say it doesn't improve visualizations, however, I've chosen a different angle on this talk."
   ]
  }
 ],
 "metadata": {
  "kernelspec": {
   "display_name": "Python 3 (ipykernel)",
   "language": "python",
   "name": "python3"
  },
  "language_info": {
   "codemirror_mode": {
    "name": "ipython",
    "version": 3
   },
   "file_extension": ".py",
   "mimetype": "text/x-python",
   "name": "python",
   "nbconvert_exporter": "python",
   "pygments_lexer": "ipython3",
   "version": "3.12.1"
  }
 },
 "nbformat": 4,
 "nbformat_minor": 5
}
